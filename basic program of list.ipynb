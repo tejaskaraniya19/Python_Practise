{
 "cells": [
  {
   "cell_type": "code",
   "execution_count": 3,
   "id": "816fc666",
   "metadata": {},
   "outputs": [
    {
     "name": "stdout",
     "output_type": "stream",
     "text": [
      "[1, 1, 2, 2, 3, 3, 4, 4, 5, 5, 6, 6, 7, 7, 8, 8]\n",
      "{1, 2, 3, 4, 5, 6, 7, 8}\n",
      "[1, 2, 3, 4, 5, 6, 7, 8]\n"
     ]
    }
   ],
   "source": [
    "# two list have duplicates value converted to unique one list\n",
    "\n",
    "list1=[1,1,2,2,3,3,4,4]\n",
    "list2=[5,5,6,6,7,7,8,8]\n",
    "\n",
    "list1.extend(list2)\n",
    "print(list1)\n",
    "\n",
    "set1 = set((list1))\n",
    "print(set1)\n",
    "\n",
    "list3 = list((set1))\n",
    "print (list3)"
   ]
  },
  {
   "cell_type": "code",
   "execution_count": 6,
   "id": "1fad667f",
   "metadata": {},
   "outputs": [
    {
     "name": "stdout",
     "output_type": "stream",
     "text": [
      "(1, 1, 1, 2, 2, 2, 3, 3, 3, 4, 4, 4, 5, 5, 5, 6, 6, 6)\n",
      "{1, 2, 3, 4, 5, 6}\n",
      "(1, 2, 3, 4, 5, 6)\n"
     ]
    }
   ],
   "source": [
    "# tuple have duplicate value converted to unique tuple\n",
    "\n",
    "tuple1= (1,1,1,2,2,2,3,3,3,4,4,4,5,5,5,6,6,6)\n",
    "print(tuple1)\n",
    "\n",
    "Set2=set((tuple1))\n",
    "print(Set2)\n",
    "\n",
    "tuple2= tuple((Set2))\n",
    "print(tuple2)"
   ]
  },
  {
   "cell_type": "code",
   "execution_count": 18,
   "id": "f64439cc",
   "metadata": {},
   "outputs": [
    {
     "name": "stdout",
     "output_type": "stream",
     "text": [
      "[1, 2, 3, 4, 5, 6, 7, 8, 9, 10]\n",
      "[8, 1]\n"
     ]
    }
   ],
   "source": [
    "# list unique value\n",
    "\n",
    "# union\n",
    "A=[1,2,3,4,5]\n",
    "Set1= set((A))\n",
    "#print(Set1)\n",
    "\n",
    "B=[1,6,7,8]\n",
    "Set2= set((B))\n",
    "#print(Set2)\n",
    "\n",
    "C=[8,9,10]\n",
    "Set3= set((C))\n",
    "#print(Set3)\n",
    "\n",
    "\n",
    "Set4 = Set1 | Set2 | Set3\n",
    "#print(Set4)\n",
    "\n",
    "# intersection\n",
    "\n",
    "Set5= Set1 & Set2 \n",
    "#print(Set5)\n",
    "\n",
    "Set6= Set2 & Set3\n",
    "#print(Set6)\n",
    "\n",
    "Set7 = Set5 | Set6\n",
    "#print(Set7)\n",
    "\n",
    "#converted\n",
    "list1=list((Set4))\n",
    "print(list1)\n",
    "\n",
    "list2=list((Set7))\n",
    "print(list2)\n",
    "\n"
   ]
  },
  {
   "cell_type": "code",
   "execution_count": null,
   "id": "e0169c80",
   "metadata": {},
   "outputs": [],
   "source": []
  }
 ],
 "metadata": {
  "kernelspec": {
   "display_name": "Python 3 (ipykernel)",
   "language": "python",
   "name": "python3"
  },
  "language_info": {
   "codemirror_mode": {
    "name": "ipython",
    "version": 3
   },
   "file_extension": ".py",
   "mimetype": "text/x-python",
   "name": "python",
   "nbconvert_exporter": "python",
   "pygments_lexer": "ipython3",
   "version": "3.9.7"
  }
 },
 "nbformat": 4,
 "nbformat_minor": 5
}
